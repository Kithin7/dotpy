{
 "cells": [
  {
   "cell_type": "code",
   "execution_count": 1,
   "metadata": {},
   "outputs": [],
   "source": [
    "#import numpy as np\n",
    "import matplotlib.pyplot as plt\n",
    "\n",
    "Monster = '808017424794512875886459904961710757005754368000000000'\n",
    "Names = ['0','1','2','3','4','5','6','7','8','9']\n",
    "Counts = [0,0,0,0,0,0,0,0,0,0]"
   ]
  },
  {
   "cell_type": "code",
   "execution_count": 2,
   "metadata": {},
   "outputs": [
    {
     "name": "stdout",
     "output_type": "stream",
     "text": [
      "Counting...\n",
      "Counted the numbers!\n",
      "[15, 4, 2, 1, 6, 6, 3, 7, 6, 4]\n"
     ]
    }
   ],
   "source": [
    "print('Counting...')\n",
    "for i in range(0,10):\n",
    "    Counts[i] = Monster.count(str(i))\n",
    "    #print(i)\n",
    "print('Counted the numbers!')\n",
    "print(Counts)"
   ]
  },
  {
   "cell_type": "code",
   "execution_count": 3,
   "metadata": {},
   "outputs": [
    {
     "data": {
      "image/png": "[encoded data removed]",
      "text/plain": [
       "<Figure size 432x288 with 1 Axes>"
      ]
     },
     "metadata": {
      "needs_background": "light"
     },
     "output_type": "display_data"
    },
    {
     "name": "stdout",
     "output_type": "stream",
     "text": [
      "Plotted!\n"
     ]
    }
   ],
   "source": [
    "plt.figure()\n",
    "plt.bar(Names, Counts)\n",
    "plt.ylabel('Count')\n",
    "plt.show()\n",
    "print('Plotted!')"
   ]
  },
  {
   "cell_type": "code",
   "execution_count": null,
   "metadata": {},
   "outputs": [],
   "source": []
  }
 ],
 "metadata": {
  "kernelspec": {
   "display_name": "Python 3",
   "language": "python",
   "name": "python3"
  },
  "language_info": {
   "codemirror_mode": {
    "name": "ipython",
    "version": 3
   },
   "file_extension": ".py",
   "mimetype": "text/x-python",
   "name": "python",
   "nbconvert_exporter": "python",
   "pygments_lexer": "ipython3",
   "version": "3.8.3"
  }
 },
 "nbformat": 4,
 "nbformat_minor": 4
}
