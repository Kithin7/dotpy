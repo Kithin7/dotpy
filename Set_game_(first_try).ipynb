{
 "cells": [
  {
   "cell_type": "code",
   "execution_count": 313,
   "metadata": {},
   "outputs": [],
   "source": [
    "import random\n",
    "import time\n",
    "import numpy as np\n",
    "\n",
    "#Variables for each card: [number, fill, color, shape]\n",
    "#number: 1, 2, 3\n",
    "#fill: hollow, solid, striped\n",
    "#color: red, green, purple\n",
    "#shape: diamond, oval, squiggle\n",
    "#number of cards = 3^4 = 81 cards\n",
    "#each row = 1 card\n",
    "#each col = 1 property (3 types each)"
   ]
  },
  {
   "cell_type": "code",
   "execution_count": 314,
   "metadata": {},
   "outputs": [],
   "source": [
    "#shuffle deck function\n",
    "def ShuffleTheDeck():\n",
    "    for i in range(0,random.randint(1000,2000)):\n",
    "        np.random.shuffle(Deck)\n",
    "    print('Shuffling the deck...')"
   ]
  },
  {
   "cell_type": "code",
   "execution_count": 315,
   "metadata": {},
   "outputs": [],
   "source": [
    "#Table - shows the top x cards of the deck\n",
    "def Table(x):\n",
    "    for i in range(0,x):\n",
    "        print(Deck[i])"
   ]
  },
  {
   "cell_type": "code",
   "execution_count": 316,
   "metadata": {},
   "outputs": [
    {
     "name": "stdout",
     "output_type": "stream",
     "text": [
      "Making the cards...\n",
      "Shuffling the deck...\n"
     ]
    }
   ],
   "source": [
    "#deck setup\n",
    "Deck = np.array([['','','','']])\n",
    "cardnumber = 0\n",
    "for Number in range(0,3):\n",
    "    if Number == 0: SetNumber = '1'\n",
    "    if Number == 1: SetNumber = '2'\n",
    "    if Number == 2: SetNumber = '3'\n",
    "        \n",
    "    for Fill in range(0,3):\n",
    "        if Fill == 0: SetFill = 'hollow'\n",
    "        if Fill == 1: SetFill = 'solid'\n",
    "        if Fill == 2: SetFill = 'striped'\n",
    "            \n",
    "        for Color in range(0,3):\n",
    "            if Color == 0: SetColor = 'green'\n",
    "            if Color == 1: SetColor = 'red'\n",
    "            if Color == 2: SetColor = 'purple'\n",
    "            \n",
    "            for Shape in range(0,3):\n",
    "                if Shape == 0: SetShape = 'oval'\n",
    "                if Shape == 1: SetShape = 'diamond'\n",
    "                if Shape == 2: SetShape = 'squiggle'\n",
    "                \n",
    "                cardnumber = cardnumber+1\n",
    "                Deck = np.append(Deck,[[SetNumber, SetFill, SetColor, SetShape]],0)\n",
    "                \n",
    "Deck = np.delete(Deck,[0],0)\n",
    "print('Making the cards...')\n",
    "ShuffleTheDeck()"
   ]
  },
  {
   "cell_type": "code",
   "execution_count": 317,
   "metadata": {},
   "outputs": [
    {
     "name": "stdout",
     "output_type": "stream",
     "text": [
      "['1' 'solid' 'purple' 'oval']\n",
      "['1' 'solid' 'red' 'diamond']\n",
      "['1' 'hollow' 'red' 'squiggle']\n",
      "['2' 'solid' 'red' 'diamond']\n",
      "['3' 'solid' 'red' 'squiggle']\n",
      "['1' 'striped' 'purple' 'oval']\n",
      "['1' 'striped' 'purple' 'diamond']\n",
      "['1' 'hollow' 'green' 'squiggle']\n",
      "['3' 'solid' 'red' 'oval']\n",
      "['2' 'striped' 'green' 'squiggle']\n",
      "['2' 'striped' 'red' 'oval']\n",
      "['1' 'striped' 'red' 'squiggle']\n"
     ]
    }
   ],
   "source": [
    "#'inplay' area\n",
    "x = 12\n",
    "Table(x)\n",
    "\n",
    "inplay = ['','','','']\n",
    "for i in range(0,12):\n",
    "    inplay = np.append(inplay,Deck[i],0)\n",
    "    \n",
    "inplay = np.reshape(inplay,(13,4))\n",
    "inplay = np.delete(inplay,[0],0)"
   ]
  },
  {
   "cell_type": "code",
   "execution_count": 347,
   "metadata": {},
   "outputs": [],
   "source": [
    "#checks play area for all possible sets\n",
    "#returns number of possible sets\n",
    "def findset(x,y):\n",
    "    card1 = inplay[x]\n",
    "    card2 = inplay[y]\n",
    "    card3 = ['','','','']\n",
    "    \n",
    "    Number = ['1','2','3']\n",
    "    Fill = ['hollow', 'solid', 'striped']\n",
    "    Color = ['red', 'green', 'purple']\n",
    "    Shape = ['diamond', 'oval', 'squiggle']\n",
    "    \n",
    "    #check number\n",
    "    if card1[0] == card2[0]: #same\n",
    "        card3[0] = card1[0]\n",
    "    else: #dif\n",
    "        if card1[0] == Number[0]:\n",
    "            Number = np.delete(Number,[0],0)\n",
    "        elif card1[0] == Number[1]: \n",
    "            Number = np.delete(Number,[1],0)\n",
    "        else:\n",
    "            Number = np.delete(Number,[2],0)\n",
    "        if card2[0] == Number[0]:\n",
    "            Number = np.delete(Number,[0],0)\n",
    "        else: \n",
    "            Number = np.delete(Number,[1],0)\n",
    "        card3[0] = Number[0]  \n",
    "    \n",
    "    #check fill    \n",
    "    if card1[1] == card2[1]:\n",
    "        card3[1] = card1[1]\n",
    "    else: \n",
    "        if card1[1] == Fill[0]:\n",
    "            Fill = np.delete(Fill,[0],0)\n",
    "        elif card1[1] == Fill[1]: \n",
    "            Fill = np.delete(Fill,[1],0)\n",
    "        else:\n",
    "            Fill = np.delete(Fill,[2],0)\n",
    "        if card2[1] == Fill[0]:\n",
    "            Fill = np.delete(Fill,[0],0)\n",
    "        else: \n",
    "            Fill = np.delete(Fill,[1],0) \n",
    "        card3[1] = Fill[0]\n",
    "    \n",
    "    #check color\n",
    "    if card1[2] == card2[2]:\n",
    "        card3[2] = card1[2]\n",
    "    else: \n",
    "        if card1[2] == Color[0]:\n",
    "            Color = np.delete(Color,[0],0)\n",
    "        elif card1[2] == Color[1]: \n",
    "            Color = np.delete(Color,[1],0)\n",
    "        else:\n",
    "            Color = np.delete(Color,[2],0)\n",
    "        if card2[2] == Color[0]:\n",
    "            Color = np.delete(Color,[0],0)\n",
    "        else: \n",
    "            Color = np.delete(Color,[1],0) \n",
    "        card3[2] = Color[0]\n",
    "    \n",
    "    #check shape\n",
    "    if card1[3] == card2[3]:\n",
    "        card3[3] = card1[3]\n",
    "    else:\n",
    "        if card1[3] == Shape[0]:\n",
    "            Shape = np.delete(Shape,[0],0)\n",
    "        elif card1[3] == Shape[1]: \n",
    "            Shape = np.delete(Shape,[1],0)\n",
    "        else:\n",
    "            Shape = np.delete(Shape,[2],0)\n",
    "        if card2[3] == Shape[0]:\n",
    "            Shape = np.delete(Shape,[0],0)\n",
    "        else: \n",
    "            Shape = np.delete(Shape,[1],0)\n",
    "        card3[3] = Shape[0]\n",
    "        \n",
    "    #check if the card is inplay\n",
    "    if card3 in inplay:\n",
    "        print('There is a set in play')\n",
    "    else:\n",
    "        print('There is not a set in play')\n",
    "    \n",
    "    print(card1)\n",
    "    print(card2)\n",
    "    print(card3)"
   ]
  },
  {
   "cell_type": "code",
   "execution_count": 348,
   "metadata": {},
   "outputs": [
    {
     "name": "stdout",
     "output_type": "stream",
     "text": [
      "[['1' 'solid' 'purple' 'oval']\n",
      " ['1' 'solid' 'red' 'diamond']\n",
      " ['1' 'hollow' 'red' 'squiggle']\n",
      " ['2' 'solid' 'red' 'diamond']\n",
      " ['3' 'solid' 'red' 'squiggle']\n",
      " ['1' 'striped' 'purple' 'oval']\n",
      " ['1' 'striped' 'purple' 'diamond']\n",
      " ['1' 'hollow' 'green' 'squiggle']\n",
      " ['3' 'solid' 'red' 'oval']\n",
      " ['2' 'striped' 'green' 'squiggle']\n",
      " ['2' 'striped' 'red' 'oval']\n",
      " ['1' 'striped' 'red' 'squiggle']]\n",
      "\n",
      "There is a set in play\n",
      "['1' 'solid' 'purple' 'oval']\n",
      "['1' 'solid' 'red' 'diamond']\n",
      "['1', 'solid', 'green', 'squiggle']\n"
     ]
    }
   ],
   "source": [
    "print(inplay)\n",
    "print('')\n",
    "findset(0,1)"
   ]
  },
  {
   "cell_type": "code",
   "execution_count": 312,
   "metadata": {},
   "outputs": [
    {
     "name": "stdout",
     "output_type": "stream",
     "text": [
      "Shuffling the deck...\n"
     ]
    }
   ],
   "source": [
    "ShuffleTheDeck()"
   ]
  },
  {
   "cell_type": "code",
   "execution_count": null,
   "metadata": {},
   "outputs": [],
   "source": []
  }
 ],
 "metadata": {
  "kernelspec": {
   "display_name": "Python 3",
   "language": "python",
   "name": "python3"
  },
  "language_info": {
   "codemirror_mode": {
    "name": "ipython",
    "version": 3
   },
   "file_extension": ".py",
   "mimetype": "text/x-python",
   "name": "python",
   "nbconvert_exporter": "python",
   "pygments_lexer": "ipython3",
   "version": "3.8.3"
  }
 },
 "nbformat": 4,
 "nbformat_minor": 4
}
