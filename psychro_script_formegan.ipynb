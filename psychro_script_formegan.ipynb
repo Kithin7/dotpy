{
 "cells": [
  {
   "cell_type": "code",
   "execution_count": 2,
   "metadata": {},
   "outputs": [
    {
     "name": "stdout",
     "output_type": "stream",
     "text": [
      "D:\\Documents\\py\\megan\\20201103.xlsx\n",
      "<openpyxl.workbook.workbook.Workbook object at 0x000001D01A8A8A60>\n",
      "<Worksheet \"Edited\">\n",
      "Number of Rows: 1533\n",
      "D:\\Documents\\py\\megan\\20201103.xlsx\n",
      "Complete!\n"
     ]
    }
   ],
   "source": [
    "#py Script for CHE5037 Fluidized Drying Bed experiment\n",
    "#Kyle Brittingham & John Lehman - Fall 2020\n",
    "#Quickly calculates some psychrometric values from an excel sheet then outputs the data and saves the sheet\n",
    "\n",
    "#use Python 3.X and install 2 libraries--openpyxl and psychrolib\n",
    "\n",
    "#save the data as .xlsx and verify the data is in the right columns:\n",
    "#inputs in columns: D=T1 dry bulb temp, E=T2 wet bulb temp,F=T3 hot dry entry, G=T4 exit temp, H=%RH exit\n",
    "#output in columns: M=humidity ratio inlet, N=specific vol inlet, O=humidity ratio outlet, P=specific vol outlet\n",
    "\n",
    "#setup libraries\n",
    "#https://openpyxl.readthedocs.io/en/stable/\n",
    "import openpyxl \n",
    "from pathlib import Path\n",
    "\n",
    "#https://github.com/psychrometrics/psychrolib/blob/master/docs/overview.md\n",
    "import psychrolib \n",
    "psychrolib.SetUnitSystem(psychrolib.SI) #celcius, pascals, etc...\n",
    "\n",
    "#setup to import the file\n",
    "File_name = '20201103.xlsx' #this is the name of the data sheet WITH .xlsx at the end\n",
    "Path_name = 'D:\\\\Documents\\\\py\\\\megan\\\\'#the first part is the path to the file!\n",
    "xlsx_file = Path(Path_name, File_name)\n",
    "print(xlsx_file) #target path and file\n",
    "\n",
    "#import file into py\n",
    "wb_obj = openpyxl.load_workbook(xlsx_file)\n",
    "print(wb_obj)\n",
    "\n",
    "#open and save your data on the sheet you want to calculate on\n",
    "sheet = wb_obj.active \n",
    "print(sheet) #this is the sheet name\n",
    "print(\"Number of Rows: \" + str(sheet.max_row)) #this is will set the for loop length\n",
    "\n",
    "P = 1 #atm\n",
    "P_pascals = 101325*P\n",
    "\n",
    "Row_start = 2 #this is the EXCEL ROW # the loop will start on--YOU MAY NEED TO CHANGE THIS VALUE\n",
    "MaxRow = sheet.max_row #ending point for the loop\n",
    "\n",
    "#inputs in columns: D=T1 dry bulb temp, E=T2 wet bulb temp,F=T3 hot dry entry, G=T4 exit temp, H=%RH exit\n",
    "#output in columns: M=humidity ratio inlet, N=specific vol inlet, O=humidity ratio outlet, P=specific vol outlet\n",
    "\n",
    "#for loop to calc values; calc row then loop to next row\n",
    "for i in range(Row_start, MaxRow+1):   #arrays start at 0 in python, but start at 1 in openpyxl functions\n",
    "    \n",
    "    T1 = sheet.cell(row = i, column = 4).value\n",
    "    T2 = sheet.cell(row = i, column = 5).value\n",
    "    if T1 < T2:\n",
    "        print(i, T1, T2) #this tells you if the wet bulb temp > dry which is a no-no---highly recommend to just use an avg wet bulb temp\n",
    "    \n",
    "    #M from D&E\n",
    "    hum_ratio_before = psychrolib.GetHumRatioFromTWetBulb(T1, T2, P_pascals) #dry, wet, pressure\n",
    "    #N from D&E\n",
    "    specific_vol_before = psychrolib.GetMoistAirVolume(T1, hum_ratio_before, P_pascals) #dry, hum-ratio, pressure\n",
    "\n",
    "    T4 = sheet.cell(row = i, column = 7).value\n",
    "    RH = sheet.cell(row = i, column = 8).value /100\n",
    "    #O from G&H\n",
    "    hum_ratio_after = psychrolib.GetHumRatioFromRelHum(T4, RH, P_pascals) #dry, RH, pressure\n",
    "    #P from G&H\n",
    "    specific_vol_after = psychrolib.GetMoistAirVolume(T4, hum_ratio_after, P_pascals) #dry, hum-ratio, pressure\n",
    "\n",
    "    #output the calc into the sheet--careful of units\n",
    "    sheet.cell(i, 13).value = hum_ratio_before    #kg/kg\n",
    "    sheet.cell(i, 14).value = specific_vol_before #m3/kg\n",
    "    sheet.cell(i, 15).value = hum_ratio_after     #kg/kg\n",
    "    sheet.cell(i, 16).value = specific_vol_after  #m3/kg\n",
    "\n",
    "#save the file!\n",
    "wb_obj.save(Path_name + File_name)\n",
    "print(Path_name + File_name)\n",
    "print('Complete!') #hooray!"
   ]
  },
  {
   "cell_type": "code",
   "execution_count": null,
   "metadata": {},
   "outputs": [],
   "source": []
  }
 ],
 "metadata": {
  "kernelspec": {
   "display_name": "Python 3",
   "language": "python",
   "name": "python3"
  },
  "language_info": {
   "codemirror_mode": {
    "name": "ipython",
    "version": 3
   },
   "file_extension": ".py",
   "mimetype": "text/x-python",
   "name": "python",
   "nbconvert_exporter": "python",
   "pygments_lexer": "ipython3",
   "version": "3.8.3"
  }
 },
 "nbformat": 4,
 "nbformat_minor": 4
}
